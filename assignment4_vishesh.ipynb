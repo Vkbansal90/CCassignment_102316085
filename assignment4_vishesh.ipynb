{
 "cells": [
  {
   "cell_type": "markdown",
   "metadata": {},
   "source": [
    "Q.1 Write a program to create a NumPy 1D-array with 5 elements and perform basic\n",
    "operations like:"
   ]
  },
  {
   "cell_type": "code",
   "execution_count": 4,
   "metadata": {},
   "outputs": [
    {
     "name": "stdout",
     "output_type": "stream",
     "text": [
      "[ 4  6  8 10 11]\n",
      "[ 6 12 18 24 27]\n",
      "[1.  2.  3.  4.  4.5]\n"
     ]
    }
   ],
   "source": [
    "import numpy as np\n",
    "\n",
    "arr1 = np.array([2,4,6,8,9])\n",
    "arr2 = arr1+2\n",
    "print(arr2)\n",
    "arr3 = arr1*3\n",
    "print(arr3)\n",
    "arr4 = arr1/2\n",
    "print(arr4)\n"
   ]
  },
  {
   "cell_type": "markdown",
   "metadata": {},
   "source": [
    "Q.2 Questions on Basic NumPy Array:\n",
    "a) Reverse the NumPy array: arr = np.array([1, 2, 3, 6, 4, 5])\n",
    "b) Find the most frequent value and their indice(s) in the following arrays:\n",
    "i. x = np.array([1,2,3,4,5,1,2,1,1,1])\n",
    "ii. y = np.array([1, 1, 1, 2, 3, 4, 2, 4, 3, 3, ])"
   ]
  },
  {
   "cell_type": "code",
   "execution_count": 6,
   "metadata": {},
   "outputs": [
    {
     "name": "stdout",
     "output_type": "stream",
     "text": [
      "[5 4 6 3 2 1]\n",
      "Most Frequent Value in x: 1\n",
      "Indices of Most Frequent Value: [0 5 7 8 9]\n",
      "Most Frequent Value in y: 1\n",
      "Indices of Most Frequent Value: [0 1 2]\n"
     ]
    }
   ],
   "source": [
    "arr = np.array([1, 2, 3, 6, 4, 5])\n",
    "print(arr[::-1])\n",
    "x = np.array([1, 2, 3, 4, 5, 1, 2, 1, 1, 1])\n",
    "y = np.array([1, 1, 1, 2, 3, 4, 2, 4, 3, 3])\n",
    "most_freq_valuex = np.bincount(x).argmax()\n",
    "most_freq_valuey = np.bincount(y).argmax()\n",
    "indicex = np.where(x == most_freq_valuex)[0]\n",
    "indicey = np.where(y == most_freq_valuex)[0]\n",
    "print(\"Most Frequent Value in x:\", most_freq_valuex)\n",
    "print(\"Indices of Most Frequent Value:\", indicex)\n",
    "print(\"Most Frequent Value in y:\", most_freq_valuey)\n",
    "print(\"Indices of Most Frequent Value:\", indicey)"
   ]
  },
  {
   "cell_type": "markdown",
   "metadata": {},
   "source": [
    "Q.3 For the given 2-D array arr=np.array([10, 20, 30], [40, 50, 60], [70, 80, 90]), access\n",
    "elements using row and column indices as follows:\n",
    "a) Access 1st row, 2nd column\n",
    "b) Access 3rd row, 1st column"
   ]
  },
  {
   "cell_type": "code",
   "execution_count": 7,
   "metadata": {},
   "outputs": [
    {
     "name": "stdout",
     "output_type": "stream",
     "text": [
      "20\n",
      "70\n"
     ]
    }
   ],
   "source": [
    "arr=np.array([[10, 20, 30], [40, 50, 60], [70, 80, 90]])\n",
    "print(arr[0,1])\n",
    "print(arr[2,0])"
   ]
  },
  {
   "cell_type": "markdown",
   "metadata": {},
   "source": [
    "Q.4 Write program to create an 1-D NumPy array named <<Your Name>> with evenly\n",
    "spaced 25 numbers from 10 to 100 using linspace(). Print the dimensions of the array,\n",
    "shape, total elements, the data type of each element and total number of bytes consumed\n",
    "by the array. Find the transpose of this array using reshape() attribute. Can we do the same\n",
    "with T attribute?"
   ]
  },
  {
   "cell_type": "code",
   "execution_count": 8,
   "metadata": {},
   "outputs": [
    {
     "name": "stdout",
     "output_type": "stream",
     "text": [
      "The array formed :[ 10.    13.75  17.5   21.25  25.    28.75  32.5   36.25  40.    43.75\n",
      "  47.5   51.25  55.    58.75  62.5   66.25  70.    73.75  77.5   81.25\n",
      "  85.    88.75  92.5   96.25 100.  ]\n",
      "Dimensions :1\n",
      "Shape: (25,)\n",
      "Elements: 25\n",
      "Data type :float64\n",
      "Bytes per elements: 8\n",
      "Total bytes: 200\n",
      "Reshaped :[[ 10.  ]\n",
      " [ 13.75]\n",
      " [ 17.5 ]\n",
      " [ 21.25]\n",
      " [ 25.  ]\n",
      " [ 28.75]\n",
      " [ 32.5 ]\n",
      " [ 36.25]\n",
      " [ 40.  ]\n",
      " [ 43.75]\n",
      " [ 47.5 ]\n",
      " [ 51.25]\n",
      " [ 55.  ]\n",
      " [ 58.75]\n",
      " [ 62.5 ]\n",
      " [ 66.25]\n",
      " [ 70.  ]\n",
      " [ 73.75]\n",
      " [ 77.5 ]\n",
      " [ 81.25]\n",
      " [ 85.  ]\n",
      " [ 88.75]\n",
      " [ 92.5 ]\n",
      " [ 96.25]\n",
      " [100.  ]]\n",
      "[[ 10.    13.75  17.5   21.25  25.    28.75  32.5   36.25  40.    43.75\n",
      "   47.5   51.25  55.    58.75  62.5   66.25  70.    73.75  77.5   81.25\n",
      "   85.    88.75  92.5   96.25 100.  ]]\n"
     ]
    }
   ],
   "source": [
    "vishesh= np.linspace(10,100,25)\n",
    "print(f'The array formed :{vishesh}')\n",
    "print(f'Dimensions :{vishesh.ndim}')\n",
    "print(f'Shape: {vishesh.shape}')\n",
    "print(f'Elements: {vishesh.size}')\n",
    "print(f'Data type :{vishesh.dtype}')\n",
    "print(f'Bytes per elements: {vishesh.itemsize}')\n",
    "print(f'Total bytes: {vishesh.itemsize * vishesh.size}')\n",
    "print(f'Reshaped :{vishesh.reshape(25,1)}')\n",
    "\n",
    "print(vishesh.reshape(25,1).T)"
   ]
  },
  {
   "cell_type": "markdown",
   "metadata": {},
   "source": [
    "Q5.  Create a 2-D Array of three rows and four columns, named ucs420_<\\your_name>> with following values – 10, 20, 30, 40, 50, 60, 70, 80, 90, 15, 20, 35. Compute the mean, median, max, min, unique elements.\n",
    "\n",
    " Reshape the array to four rows and three columns and name it as reshaped_ ucs420_<\\your_name>>. Resize the array to two rows and three columns and name it as resized_ ucs420_<\\your_name>>."
   ]
  },
  {
   "cell_type": "code",
   "execution_count": 9,
   "metadata": {},
   "outputs": [
    {
     "name": "stdout",
     "output_type": "stream",
     "text": [
      "Original :[[10 20 30 40]\n",
      " [50 60 70 80]\n",
      " [90 15 20 35]]\n",
      "Mean: 43.333333333333336\n",
      "Median: 37.5\n",
      "Max: 90\n",
      "Min: 10\n",
      "Unique Elements: [10 15 20 30 35 40 50 60 70 80 90]\n",
      "Their count: [1 1 2 1 1 1 1 1 1 1 1]\n",
      "Reshaped : [[10 20 30]\n",
      " [40 50 60]\n",
      " [70 80 90]\n",
      " [15 20 35]]\n",
      "Resized: [[10 20 30]\n",
      " [40 50 60]]\n"
     ]
    }
   ],
   "source": [
    "ucs420_vishesh = np.array([10, 20, 30, 40, 50, 60, 70, 80, 90, 15, 20, 35])\n",
    "ucs420_vishesh = ucs420_vishesh.reshape(3,4)\n",
    "print(f'Original :{ucs420_vishesh}')\n",
    "\n",
    "print(f'Mean: {np.mean(ucs420_vishesh)}')\n",
    "print(f'Median: {np.median(ucs420_vishesh)}')\n",
    "print(f'Max: {np.max(ucs420_vishesh)}')\n",
    "print(f'Min: {np.min(ucs420_vishesh)}')\n",
    "\n",
    "x,y=np.unique(ucs420_vishesh, return_counts= True)\n",
    "print(f'Unique Elements: {x}')\n",
    "print(f'Their count: {y}')\n",
    "\n",
    "reshaped_ucs420_vishesh = ucs420_vishesh.reshape(4,3)\n",
    "print(f'Reshaped : {reshaped_ucs420_vishesh}')\n",
    "resized_ucs420_vishesh = ucs420_vishesh.copy()\n",
    "resized_ucs420_vishesh.resize(2, 3)\n",
    "print(f'Resized: {resized_ucs420_vishesh}')"
   ]
  },
  {
   "cell_type": "code",
   "execution_count": null,
   "metadata": {},
   "outputs": [],
   "source": []
  },
  {
   "cell_type": "code",
   "execution_count": null,
   "metadata": {},
   "outputs": [],
   "source": []
  },
  {
   "cell_type": "code",
   "execution_count": null,
   "metadata": {},
   "outputs": [],
   "source": []
  },
  {
   "cell_type": "code",
   "execution_count": null,
   "metadata": {},
   "outputs": [],
   "source": []
  },
  {
   "cell_type": "code",
   "execution_count": null,
   "metadata": {},
   "outputs": [],
   "source": []
  },
  {
   "cell_type": "code",
   "execution_count": null,
   "metadata": {},
   "outputs": [],
   "source": []
  },
  {
   "cell_type": "code",
   "execution_count": null,
   "metadata": {},
   "outputs": [],
   "source": []
  },
  {
   "cell_type": "code",
   "execution_count": null,
   "metadata": {},
   "outputs": [],
   "source": []
  },
  {
   "cell_type": "code",
   "execution_count": null,
   "metadata": {},
   "outputs": [],
   "source": []
  },
  {
   "cell_type": "code",
   "execution_count": null,
   "metadata": {},
   "outputs": [],
   "source": []
  },
  {
   "cell_type": "code",
   "execution_count": null,
   "metadata": {},
   "outputs": [],
   "source": []
  }
 ],
 "metadata": {
  "kernelspec": {
   "display_name": "Python 3",
   "language": "python",
   "name": "python3"
  },
  "language_info": {
   "codemirror_mode": {
    "name": "ipython",
    "version": 3
   },
   "file_extension": ".py",
   "mimetype": "text/x-python",
   "name": "python",
   "nbconvert_exporter": "python",
   "pygments_lexer": "ipython3",
   "version": "3.13.1"
  }
 },
 "nbformat": 4,
 "nbformat_minor": 2
}
