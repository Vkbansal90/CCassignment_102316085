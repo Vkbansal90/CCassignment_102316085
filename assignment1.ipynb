{
 "cells": [
  {
   "cell_type": "code",
   "execution_count": null,
   "metadata": {},
   "outputs": [],
   "source": [
    "# q1.1\n",
    "\n",
    "i=0\n",
    "for i in range(3):\n",
    "    print(\"vishesh kumar \")\n"
   ]
  },
  {
   "cell_type": "code",
   "execution_count": null,
   "metadata": {},
   "outputs": [],
   "source": [
    "# q2.1\n",
    "a=int(input(\"first no\"))\n",
    "b=int(input(\"second no\"))\n",
    "c=int(input(\"third no\"))\n",
    "print(\"sum of no \",a+b+c)\n",
    "\n",
    "\n"
   ]
  },
  {
   "cell_type": "code",
   "execution_count": null,
   "metadata": {},
   "outputs": [],
   "source": [
    "# q2.2\n",
    "a=input(\"first st\")\n",
    "b=input(\"second st\")\n",
    "c=input(\"third st\")\n",
    "print(\"concatination  \",a+b+c ,end=\" \")\n"
   ]
  },
  {
   "cell_type": "code",
   "execution_count": null,
   "metadata": {},
   "outputs": [],
   "source": [
    "# q4.1\n",
    "for i in range(1,11):\n",
    "    print(\"7 X \",i, \" = \",7*i )\n",
    "\n",
    "for i in range(1,11):\n",
    "    print(\"9 X \",i, \" = \",9*i )\n",
    "\n"
   ]
  },
  {
   "cell_type": "code",
   "execution_count": 2,
   "metadata": {},
   "outputs": [
    {
     "name": "stdout",
     "output_type": "stream",
     "text": [
      "10  X  1  =  10\n",
      "10  X  2  =  20\n",
      "10  X  3  =  30\n",
      "10  X  4  =  40\n",
      "10  X  5  =  50\n",
      "10  X  6  =  60\n",
      "10  X  7  =  70\n",
      "10  X  8  =  80\n",
      "10  X  9  =  90\n",
      "10  X  10  =  100\n"
     ]
    }
   ],
   "source": [
    "# q4.2\n",
    "n=int(input(\"enter the no to get table\"))\n",
    "for i in range(1,11):\n",
    "    print(n,\" X \",i, \" = \",n*i )"
   ]
  },
  {
   "cell_type": "code",
   "execution_count": null,
   "metadata": {},
   "outputs": [],
   "source": [
    "# q4.3\n",
    "n=int(input(\"enter the no to get sum\"))\n",
    "sum=0\n",
    "for i in range(1,n+1):\n",
    "\n",
    "    sum=sum+i\n",
    "print(sum)\n",
    "\n"
   ]
  },
  {
   "cell_type": "code",
   "execution_count": null,
   "metadata": {},
   "outputs": [],
   "source": [
    "# q5.1\n",
    "a=int(input(\"first no\"))\n",
    "b=int(input(\"second no\"))\n",
    "c=int(input(\"third no\"))\n",
    "print(f\"max of {a},{b},{c} is\",max(a,b,c))\n",
    "\n"
   ]
  },
  {
   "cell_type": "code",
   "execution_count": null,
   "metadata": {},
   "outputs": [],
   "source": [
    "\n",
    "# q5.2\n",
    "n=int(input(\"enter the no to get sum\"))\n",
    "sum=0\n",
    "for i in range(1,n+1):\n",
    "    if i%7==0 and i%9==0 :\n",
    "        sum=sum+i\n",
    "print(sum)\n",
    "\n"
   ]
  },
  {
   "cell_type": "code",
   "execution_count": null,
   "metadata": {},
   "outputs": [],
   "source": [
    "# q5.3\n",
    "\n",
    "def is_prime(num):\n",
    "    if num < 2:\n",
    "        return False\n",
    "    for i in range(2, int(num**0.5) + 1):\n",
    "        if num % i == 0:\n",
    "            return False\n",
    "    return True\n",
    "p = int(input(\"Enter a number:\"))\n",
    "prime_sum=0\n",
    "for i in range(1,p+1):\n",
    "    if(is_prime(i)):\n",
    "        prime_sum+=i\n",
    "print(\"the sum of prime numbers upto n is:\", prime_sum)\n",
    "\n"
   ]
  },
  {
   "cell_type": "code",
   "execution_count": null,
   "metadata": {},
   "outputs": [],
   "source": [
    "# q6.1\n",
    "def add_odd(n):\n",
    "    l = [i for i in range(1,n+1) if i%2!=0]\n",
    "    return sum(l)\n",
    "q=int(input(\"enter a number:\"))\n",
    "print(\"Sum of odd numbers upto n:\", add_odd(q))\n"
   ]
  },
  {
   "cell_type": "code",
   "execution_count": null,
   "metadata": {},
   "outputs": [],
   "source": [
    "# q6.1\n",
    "def add_odd(n):\n",
    "    l = [i for i in range(1,n+1) if i%2!=0]\n",
    "    return sum(l)\n",
    "q=int(input(\"enter a number:\"))\n",
    "print(\"Sum of odd numbers upto n:\", add_odd(q))\n",
    "\n"
   ]
  }
 ],
 "metadata": {
  "kernelspec": {
   "display_name": "Python 3",
   "language": "python",
   "name": "python3"
  },
  "language_info": {
   "codemirror_mode": {
    "name": "ipython",
    "version": 3
   },
   "file_extension": ".py",
   "mimetype": "text/x-python",
   "name": "python",
   "nbconvert_exporter": "python",
   "pygments_lexer": "ipython3",
   "version": "3.13.1"
  }
 },
 "nbformat": 4,
 "nbformat_minor": 2
}
